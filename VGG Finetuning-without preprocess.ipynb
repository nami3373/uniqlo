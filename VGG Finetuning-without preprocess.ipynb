{
 "cells": [
  {
   "cell_type": "code",
   "execution_count": 1,
   "metadata": {},
   "outputs": [
    {
     "name": "stderr",
     "output_type": "stream",
     "text": [
      "Using Theano backend.\n",
     ]
    }
   ],
   "source": [
    "import os\n",
    "import glob\n",
    "from keras.applications.vgg16 import VGG16\n",
    "from keras.preprocessing.image import ImageDataGenerator\n",
    "from keras.models import Sequential, Model\n",
    "from keras.layers import Input, Activation, Dropout, Flatten, Dense\n",
    "from keras.preprocessing.image import ImageDataGenerator\n",
    "from keras.preprocessing import image\n",
    "from keras import optimizers\n",
    "import numpy as np\n",
    "import pandas as pd"
   ]
  },
  {
   "cell_type": "code",
   "execution_count": 2,
   "metadata": {
    "collapsed": true
   },
   "outputs": [],
   "source": [
    "classes = ['0', '1', '2', '3', '4', '5', '6', '7', '8', '9', '10', '11', '12', \n",
    "           '13', '14', '15', '16', '17', '18', '19', '20', '21', '22', '23']"
   ]
  },
  {
   "cell_type": "code",
   "execution_count": 3,
   "metadata": {
    "collapsed": true
   },
   "outputs": [],
   "source": [
    "batch_size = 32\n",
    "nb_classes = len(classes)\n",
    "\n",
    "img_rows, img_cols = 150, 150\n",
    "channels = 3\n",
    "\n",
    "train_data_dir = 'input/processed/train1'\n",
    "valid_data_dir = 'input/processed/valid'\n",
    "test_data_dir = 'input/processed/test'\n",
    "\n",
    "nb_train_samples = 12399 - (15 * 24)\n",
    "nb_val_samples = 15 * 24\n",
    "nb_epoch = 30\n",
    "\n",
    "result_dir = 'results'\n",
    "if not os.path.exists(result_dir):\n",
    "    os.mkdir(result_dir)"
   ]
  },
  {
   "cell_type": "code",
   "execution_count": 4,
   "metadata": {
    "collapsed": true
   },
   "outputs": [],
   "source": [
    "# VGG16モデルと学習済み重みをロード\n",
    "# Fully-connected層（FC）はいらないのでinclude_top=False）\n",
    "input_tensor = Input(shape=(img_rows, img_cols, 3))\n",
    "vgg16 = VGG16(include_top=False, weights='imagenet', input_tensor=input_tensor)\n",
    "# vgg16.summary()"
   ]
  },
  {
   "cell_type": "code",
   "execution_count": 5,
   "metadata": {
    "collapsed": true
   },
   "outputs": [],
   "source": [
    "# FC層を構築\n",
    "# Flattenへの入力指定はバッチ数を除く\n",
    "top_model = Sequential()\n",
    "top_model.add(Flatten(input_shape=vgg16.output_shape[1:]))\n",
    "top_model.add(Dense(256, activation='relu'))\n",
    "top_model.add(Dropout(0.5))\n",
    "top_model.add(Dense(nb_classes, activation='softmax'))"
   ]
  },
  {
   "cell_type": "code",
   "execution_count": 6,
   "metadata": {},
   "outputs": [
    {
     "name": "stderr",
     "output_type": "stream",
     "text": [
     ]
    }
   ],
   "source": [
    "# VGG16とFCを接続\n",
    "model = Model(input=vgg16.input, output=top_model(vgg16.output))\n",
    "\n",
    "# 学習済みの重みをロード\n",
    "model.load_weights(os.path.join(result_dir, 'vgg16_epoch=10', 'finetuning2.h5'))\n",
    "\n",
    "# 最後のconv層の直前までの層をfreeze\n",
    "for layer in model.layers[:15]:\n",
    "    layer.trainable = False"
   ]
  },
  {
   "cell_type": "code",
   "execution_count": 7,
   "metadata": {
    "collapsed": true
   },
   "outputs": [],
   "source": [
    "# Fine-tuningのときはSGDの方がよい？\n",
    "model.compile(loss='categorical_crossentropy',\n",
    "              optimizer=optimizers.SGD(lr=1e-4, momentum=0.9),\n",
    "              metrics=['accuracy'])"
   ]
  },
  {
   "cell_type": "code",
   "execution_count": 8,
   "metadata": {},
   "outputs": [
    {
     "name": "stdout",
     "output_type": "stream",
     "text": [
      "Found 11799 images belonging to 24 classes.\n"
     ]
    }
   ],
   "source": [
    "train_datagen = ImageDataGenerator(\n",
    "    rescale=1.0 / 255.0,\n",
    "    shear_range=0.2,\n",
    "    zoom_range=0.2,\n",
    "    horizontal_flip=True)\n",
    "\n",
    "train_generator = train_datagen.flow_from_directory(\n",
    "    train_data_dir,\n",
    "    target_size=(img_rows, img_cols),\n",
    "    color_mode='rgb',\n",
    "    classes=classes,\n",
    "    class_mode='categorical',\n",
    "    batch_size=batch_size,\n",
    "    shuffle=True)"
   ]
  },
  {
   "cell_type": "code",
   "execution_count": 9,
   "metadata": {},
   "outputs": [
    {
     "name": "stdout",
     "output_type": "stream",
     "text": [
      "Found 360 images belonging to 24 classes.\n"
     ]
    },
    {
     "name": "stderr",
     "output_type": "stream",
     "text": [
     ]
    },
    {
     "name": "stdout",
     "output_type": "stream",
     "text": [
      "Epoch 1/10\n",
      "376/376 [==============================] - 12195s - loss: 1.3259 - acc: 0.5871 - val_loss: 2.4089 - val_acc: 0.3194\n",
      "Epoch 2/10\n",
      "376/376 [==============================] - 6005s - loss: 1.2796 - acc: 0.6030 - val_loss: 2.1066 - val_acc: 0.3668\n",
      "Epoch 3/10\n",
      "376/376 [==============================] - 36331s - loss: 1.2377 - acc: 0.6124 - val_loss: 2.1699 - val_acc: 0.3729\n",
      "Epoch 4/10\n",
      "376/376 [==============================] - 6009s - loss: 1.2231 - acc: 0.6149 - val_loss: 2.0731 - val_acc: 0.4108\n",
      "Epoch 5/10\n",
      "376/376 [==============================] - 5999s - loss: 1.1817 - acc: 0.6312 - val_loss: 2.0580 - val_acc: 0.4360\n",
      "Epoch 6/10\n",
      "376/376 [==============================] - 24808s - loss: 1.1590 - acc: 0.6351 - val_loss: 1.9907 - val_acc: 0.4308\n",
      "Epoch 7/10\n",
      "376/376 [==============================] - 6020s - loss: 1.1260 - acc: 0.6416 - val_loss: 1.8863 - val_acc: 0.4339\n",
      "Epoch 8/10\n",
      "376/376 [==============================] - 40150s - loss: 1.1063 - acc: 0.6507 - val_loss: 1.9123 - val_acc: 0.4497\n",
      "Epoch 9/10\n",
      "376/376 [==============================] - 44885s - loss: 1.0760 - acc: 0.6521 - val_loss: 1.9563 - val_acc: 0.4390\n",
      "Epoch 10/10\n",
      "376/376 [==============================] - 5996s - loss: 1.0602 - acc: 0.6606 - val_loss: 1.8967 - val_acc: 0.4694\n"
     ]
    }
   ],
   "source": [
    "valid_datagen = ImageDataGenerator(rescale=1.0 / 255.0)\n",
    "\n",
    "validation_generator = valid_datagen.flow_from_directory(\n",
    "    valid_data_dir,\n",
    "    target_size=(img_rows, img_cols),\n",
    "    color_mode='rgb',\n",
    "    classes=classes,\n",
    "    class_mode='categorical',\n",
    "    batch_size=batch_size,\n",
    "    shuffle=True)\n",
    "\n",
    "# Fine-tuning\n",
    "history = model.fit_generator(\n",
    "    train_generator,\n",
    "    samples_per_epoch=nb_train_samples,\n",
    "    nb_epoch=nb_epoch,\n",
    "    validation_data=validation_generator,\n",
    "    nb_val_samples=nb_val_samples)\n",
    "\n",
    "model.save_weights(os.path.join(result_dir, 'finetuning_vgg.h5'))"
   ]
  },
  {
   "cell_type": "code",
   "execution_count": 10,
   "metadata": {
    "collapsed": true
   },
   "outputs": [],
   "source": [
    "# load test data and make prediction\n",
    "path = os.path.join('input', 'processed', 'test', '*.jpg')\n",
    "files = sorted(glob.glob(path))"
   ]
  },
  {
   "cell_type": "code",
   "execution_count": 11,
   "metadata": {
    "collapsed": true
   },
   "outputs": [],
   "source": [
    "test_id = []\n",
    "test = []\n",
    "\n",
    "for fl in files:\n",
    "    flbase = os.path.basename(fl)\n",
    "    img = image.load_img(fl, target_size=(img_rows, img_cols))\n",
    "    x = image.img_to_array(img)\n",
    "    x = np.expand_dims(x, axis=0)\n",
    "    x = x / 255.0\n",
    "\n",
    "    test_id.append(flbase)\n",
    "    test.append(model.predict(x)[0])    "
   ]
  },
  {
   "cell_type": "code",
   "execution_count": 12,
   "metadata": {
    "collapsed": true
   },
   "outputs": [],
   "source": [
    "df1 = pd.DataFrame.from_records(test, index=test_id)\n",
    "df1.to_csv('sub1.csv')"
   ]
  },
  {
   "cell_type": "code",
   "execution_count": 13,
   "metadata": {
    "collapsed": true
   },
   "outputs": [],
   "source": [
    "label_list = []\n",
    "df1_T = df1.transpose()\n",
    "for i in range(len(df1_T.columns)):\n",
    "    label_list.append(df1_T.ix[:, i].idxmax())"
   ]
  },
  {
   "cell_type": "code",
   "execution_count": 14,
   "metadata": {
    "collapsed": true
   },
   "outputs": [],
   "source": [
    "df2 = pd.Series(label_list, index=df1.index)\n",
    "df2.to_csv('sub2.csv')"
   ]
  },
  {
   "cell_type": "code",
   "execution_count": 15,
   "metadata": {},
   "outputs": [
    {
     "data": {
      "text/html": [
       "<a href='sub1.csv' target='_blank'>sub1.csv</a><br>"
      ],
      "text/plain": [
       "/Users/ys/Documents/DataScience/iPython/data science/Comp/Uniqlo/sub1.csv"
      ]
     },
     "execution_count": 15,
     "metadata": {},
     "output_type": "execute_result"
    }
   ],
   "source": [
    "from IPython.display import FileLink\n",
    "FileLink('sub1.csv')"
   ]
  },
  {
   "cell_type": "code",
   "execution_count": 16,
   "metadata": {},
   "outputs": [
    {
     "data": {
      "text/html": [
       "<a href='sub2.csv' target='_blank'>sub2.csv</a><br>"
      ],
      "text/plain": [
       "/Users/ys/Documents/DataScience/iPython/data science/Comp/Uniqlo/sub2.csv"
      ]
     },
     "execution_count": 16,
     "metadata": {},
     "output_type": "execute_result"
    }
   ],
   "source": [
    "FileLink('sub2.csv')"
   ]
  },
  {
   "cell_type": "code",
   "execution_count": null,
   "metadata": {
    "collapsed": true
   },
   "outputs": [],
   "source": []
  }
 ],
 "metadata": {
  "anaconda-cloud": {},
  "kernelspec": {
   "display_name": "Python 3",
   "language": "python",
   "name": "python3"
  },
  "language_info": {
   "codemirror_mode": {
    "name": "ipython",
    "version": 3
   },
   "file_extension": ".py",
   "mimetype": "text/x-python",
   "name": "python",
   "nbconvert_exporter": "python",
   "pygments_lexer": "ipython3",
   "version": "3.5.3"
  }
 },
 "nbformat": 4,
 "nbformat_minor": 2
}
